{
  "cells": [
    {
      "cell_type": "code",
      "execution_count": 10,
      "metadata": {},
      "outputs": [],
      "source": [
        "import pyarrow as pa\n",
        "import pyarrow.dataset as ds\n",
        "import duckdb\n",
        "from pyarrow import fs\n",
        "import streamlit as st\n",
        "\n",
        "def compaction(day):   \n",
        "    duckdb.sql(f'''\n",
        "        install httpfs;\n",
        "        LOAD httpfs;\n",
        "        set enable_progress_bar=false;\n",
        "        PRAGMA enable_object_cache;\n",
        "        SET enable_http_metadata_cache=true ;\n",
        "        set s3_region = 'auto';\n",
        "        set s3_access_key_id = \"{st.secrets[\"aws_access_key_id_secret\"]}\" ;\n",
        "        set s3_secret_access_key = '{st.secrets[\"aws_secret_access_key_secret\"] }';\n",
        "        set s3_endpoint = '{st.secrets[\"endpoint_url_secret\"].replace(\"https://\", \"\")}' \n",
        "        \n",
        "        ''')\n",
        "    file=duckdb.sql(f\"\"\"select count(distinct filename) as cnt \n",
        "                     from parquet_scan('s3://aemo/aemo/scada/data/Date={day}/*.parquet' , HIVE_PARTITIONING = 1,filename=1) \"\"\").df()\n",
        "    if file[['cnt']].values[0][0] > 1 :\n",
        "    \n",
        "         tb=duckdb.sql(f'''select SETTLEMENTDATE,DUID,SCADAVALUE,file, cast(Date as date) as Date\n",
        "                       from parquet_scan('s3://aemo/aemo/scada/data/Date={day}/*.parquet' , HIVE_PARTITIONING = 1)''').arrow()\n",
        "    \n",
        "         s3 = fs.S3FileSystem(region=\"us-east-1\",\n",
        "                         access_key = st.secrets[\"aws_access_key_id_secret\"],\n",
        "                         secret_key=st.secrets[\"aws_secret_access_key_secret\"] ,\n",
        "                         endpoint_override=st.secrets[\"endpoint_url_secret\"] )\n",
        "        \n",
        "    \n",
        "         my_schema = pa.schema([\n",
        "                      pa.field('SETTLEMENTDATE', pa.timestamp('us')),\n",
        "                      pa.field('DUID', pa.string()),\n",
        "                      pa.field('SCADAVALUE', pa.float64()),\n",
        "                      pa.field('file', pa.string()),\n",
        "                      pa.field('Date', pa.date32())\n",
        "                         ])\n",
        "         xx=tb.cast(target_schema=my_schema)\n",
        "         ds.write_dataset(xx,\"aemo/aemo/scada/data/\", filesystem=s3,format=\"parquet\" , partitioning=['Date'],partitioning_flavor=\"hive\",\n",
        "         min_rows_per_group=120000,existing_data_behavior=\"delete_matching\")\n",
        "    return 'done'\n"
      ]
    },
    {
      "cell_type": "code",
      "execution_count": null,
      "metadata": {},
      "outputs": [],
      "source": [
        "from datetime import datetime , timedelta\n",
        "import pytz\n",
        "import time\n",
        "now = datetime.now(pytz.timezone('Australia/Brisbane'))\n",
        "date_list =[datetime.strftime(now - timedelta(days=x), '%Y-%m-%d') for x in range(1, 30) ]\n",
        "for x in date_list :\n",
        "    start = time.time()\n",
        "    compaction(x)\n",
        "    stop = time.time()\n",
        "    duration = stop-start\n",
        "    print(x)\n",
        "    print(duration)"
      ]
    }
  ],
  "metadata": {
    "colab": {
      "provenance": []
    },
    "kernelspec": {
      "display_name": "Python 3.10.6 64-bit",
      "language": "python",
      "name": "python3"
    },
    "language_info": {
      "codemirror_mode": {
        "name": "ipython",
        "version": 3
      },
      "file_extension": ".py",
      "mimetype": "text/x-python",
      "name": "python",
      "nbconvert_exporter": "python",
      "pygments_lexer": "ipython3",
      "version": "3.10.6"
    },
    "vscode": {
      "interpreter": {
        "hash": "a00db2a08d8e812a7e35133a98e8cfd4141d13fcbd55f5b6e55385387fe8d2b4"
      }
    }
  },
  "nbformat": 4,
  "nbformat_minor": 0
}
